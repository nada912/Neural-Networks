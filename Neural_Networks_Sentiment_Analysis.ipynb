{
  "nbformat": 4,
  "nbformat_minor": 0,
  "metadata": {
    "colab": {
      "provenance": [],
      "authorship_tag": "ABX9TyNMAILkbWNfOGz2FXMCyLHN",
      "include_colab_link": true
    },
    "kernelspec": {
      "name": "python3",
      "display_name": "Python 3"
    },
    "language_info": {
      "name": "python"
    }
  },
  "cells": [
    {
      "cell_type": "markdown",
      "metadata": {
        "id": "view-in-github",
        "colab_type": "text"
      },
      "source": [
        "<a href=\"https://colab.research.google.com/github/nada912/Neural-Networks/blob/main/Neural_Networks_Sentiment_Analysis.ipynb\" target=\"_parent\"><img src=\"https://colab.research.google.com/assets/colab-badge.svg\" alt=\"Open In Colab\"/></a>"
      ]
    },
    {
      "cell_type": "code",
      "execution_count": 6,
      "metadata": {
        "id": "tFFEu8cAGEJ5"
      },
      "outputs": [],
      "source": [
        "import numpy as np\n",
        "from tensorflow.keras.utils import to_categorical\n",
        "from tensorflow.keras import models\n",
        "from tensorflow.keras import layers\n",
        "from tensorflow.keras.datasets import imdb\n",
        "from tensorflow.keras.preprocessing.sequence import pad_sequences"
      ]
    },
    {
      "cell_type": "markdown",
      "source": [
        "1. Load the IMDB dataset"
      ],
      "metadata": {
        "id": "XaoLt0mfGa0e"
      }
    },
    {
      "cell_type": "code",
      "source": [
        "(training_data, training_targets), (testing_data, testing_targets) = imdb.load_data(num_words=10000)"
      ],
      "metadata": {
        "id": "jeLR3CDcGTIS"
      },
      "execution_count": 7,
      "outputs": []
    },
    {
      "cell_type": "markdown",
      "source": [
        "Concatenate the training and testing data and targets\n"
      ],
      "metadata": {
        "id": "Wnfm7GgPGjyN"
      }
    },
    {
      "cell_type": "code",
      "source": [
        "data = np.concatenate((training_data, testing_data), axis=0)\n",
        "targets = np.concatenate((training_targets, testing_targets), axis=0)"
      ],
      "metadata": {
        "id": "jsAJ3uARGe_I"
      },
      "execution_count": 8,
      "outputs": []
    },
    {
      "cell_type": "markdown",
      "source": [
        "2. Take only the first 10,000 words from each data sample"
      ],
      "metadata": {
        "id": "GozM266LGpjZ"
      }
    },
    {
      "cell_type": "code",
      "source": [
        "max_sequence_length = 10000\n",
        "training_data = pad_sequences(training_data, maxlen=max_sequence_length)\n",
        "testing_data = pad_sequences(testing_data, maxlen=max_sequence_length)"
      ],
      "metadata": {
        "id": "TqGjq0PUGzUR"
      },
      "execution_count": 9,
      "outputs": []
    },
    {
      "cell_type": "markdown",
      "source": [
        "3. Build the Neural Network"
      ],
      "metadata": {
        "id": "JPA-Zb5qHbsD"
      }
    },
    {
      "cell_type": "code",
      "source": [
        "model = models.Sequential()\n",
        "model.add(layers.Embedding(10000, 50, input_length=max_sequence_length))  # Word embeddings\n",
        "model.add(layers.Flatten())  # Flatten the 2D embedding to 1D\n",
        "model.add(layers.Dense(50, activation='relu'))\n",
        "model.add(layers.Dense(1, activation='sigmoid'))  # Output layer for binary classification"
      ],
      "metadata": {
        "id": "CG9bVOgDHa0c"
      },
      "execution_count": 10,
      "outputs": []
    },
    {
      "cell_type": "markdown",
      "source": [
        "4. Compile the model"
      ],
      "metadata": {
        "id": "6UbGxHnBH7BZ"
      }
    },
    {
      "cell_type": "code",
      "source": [
        "model.compile(optimizer='adam', loss='binary_crossentropy', metrics=['accuracy'])"
      ],
      "metadata": {
        "id": "dyiSx3tPH9LB"
      },
      "execution_count": 11,
      "outputs": []
    },
    {
      "cell_type": "markdown",
      "source": [
        "5. Fit the model"
      ],
      "metadata": {
        "id": "cxbDyEncIGPY"
      }
    },
    {
      "cell_type": "code",
      "source": [
        "model.fit(training_data, training_targets, validation_data=(testing_data, testing_targets), epochs=4, batch_size=512)"
      ],
      "metadata": {
        "colab": {
          "base_uri": "https://localhost:8080/"
        },
        "id": "0rYL03xMIJTS",
        "outputId": "f3f8582d-5fd4-4141-bcfc-47927cd11136"
      },
      "execution_count": 12,
      "outputs": [
        {
          "output_type": "stream",
          "name": "stdout",
          "text": [
            "Epoch 1/4\n",
            "49/49 [==============================] - 277s 6s/step - loss: 1.2853 - accuracy: 0.5183 - val_loss: 0.6841 - val_accuracy: 0.5294\n",
            "Epoch 2/4\n",
            "49/49 [==============================] - 275s 6s/step - loss: 0.5995 - accuracy: 0.6958 - val_loss: 0.4809 - val_accuracy: 0.8012\n",
            "Epoch 3/4\n",
            "49/49 [==============================] - 272s 6s/step - loss: 0.3588 - accuracy: 0.8598 - val_loss: 0.3207 - val_accuracy: 0.8701\n",
            "Epoch 4/4\n",
            "49/49 [==============================] - 272s 6s/step - loss: 0.2466 - accuracy: 0.9062 - val_loss: 0.2933 - val_accuracy: 0.8754\n"
          ]
        },
        {
          "output_type": "execute_result",
          "data": {
            "text/plain": [
              "<keras.src.callbacks.History at 0x78c4b23a8310>"
            ]
          },
          "metadata": {},
          "execution_count": 12
        }
      ]
    },
    {
      "cell_type": "markdown",
      "source": [
        "6. Evaluate the model"
      ],
      "metadata": {
        "id": "oVQaMehtIiXr"
      }
    },
    {
      "cell_type": "code",
      "source": [
        "test_loss, test_accuracy = model.evaluate(testing_data, testing_targets)\n",
        "print(f'Final Accuracy: {test_accuracy * 100:.2f}%')"
      ],
      "metadata": {
        "colab": {
          "base_uri": "https://localhost:8080/"
        },
        "id": "psY7ZDzhIlwv",
        "outputId": "bcc4bba8-38dc-4954-d6b3-d93e40368e43"
      },
      "execution_count": 13,
      "outputs": [
        {
          "output_type": "stream",
          "name": "stdout",
          "text": [
            "782/782 [==============================] - 90s 116ms/step - loss: 0.2933 - accuracy: 0.8754\n",
            "Final Accuracy: 87.54%\n"
          ]
        }
      ]
    }
  ]
}