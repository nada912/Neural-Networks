{
  "nbformat": 4,
  "nbformat_minor": 0,
  "metadata": {
    "colab": {
      "provenance": [],
      "authorship_tag": "ABX9TyP9rz6qeTB9i11p99CzmRWB",
      "include_colab_link": true
    },
    "kernelspec": {
      "name": "python3",
      "display_name": "Python 3"
    },
    "language_info": {
      "name": "python"
    }
  },
  "cells": [
    {
      "cell_type": "markdown",
      "metadata": {
        "id": "view-in-github",
        "colab_type": "text"
      },
      "source": [
        "<a href=\"https://colab.research.google.com/github/nada912/Neural-Networks/blob/main/Neural_Networks.ipynb\" target=\"_parent\"><img src=\"https://colab.research.google.com/assets/colab-badge.svg\" alt=\"Open In Colab\"/></a>"
      ]
    },
    {
      "cell_type": "markdown",
      "source": [
        "1. Activate Tensorflow"
      ],
      "metadata": {
        "id": "zpEkXnt5CV-8"
      }
    },
    {
      "cell_type": "code",
      "source": [
        "try:\n",
        "    # %tensorflow_version only exists in Colab.\n",
        "    %tensorflow_version 2.x\n",
        "except Exception:\n",
        "    pass"
      ],
      "metadata": {
        "colab": {
          "base_uri": "https://localhost:8080/"
        },
        "id": "GfHSU89GBuou",
        "outputId": "84f8ac76-e29c-45df-93e6-b822f03ce26a"
      },
      "execution_count": 1,
      "outputs": [
        {
          "output_type": "stream",
          "name": "stdout",
          "text": [
            "Colab only includes TensorFlow 2.x; %tensorflow_version has no effect.\n"
          ]
        }
      ]
    },
    {
      "cell_type": "markdown",
      "source": [
        "2. Import tensorflow, keras, numpy and matplot"
      ],
      "metadata": {
        "id": "_04mFKD5Chao"
      }
    },
    {
      "cell_type": "code",
      "source": [
        "from __future__ import absolute_import , division , print_function , unicode_literals\n",
        "\n",
        "# TensorFlow and tf.keras\n",
        "import tensorflow as tf\n",
        "from tensorflow import keras\n",
        "\n",
        "# Helper libraries\n",
        "import numpy as np\n",
        "import matplotlib.pyplot as plt"
      ],
      "metadata": {
        "id": "uStkPfsZCJBl"
      },
      "execution_count": 2,
      "outputs": []
    },
    {
      "cell_type": "markdown",
      "source": [
        "3. Check Tensorflow version"
      ],
      "metadata": {
        "id": "b2B7bgIECc0C"
      }
    },
    {
      "cell_type": "code",
      "source": [
        "print(tf.__version__)"
      ],
      "metadata": {
        "colab": {
          "base_uri": "https://localhost:8080/"
        },
        "id": "KmhorrhICBcI",
        "outputId": "57c23a4e-f63b-4a1c-8e75-830a2e563420"
      },
      "execution_count": 3,
      "outputs": [
        {
          "output_type": "stream",
          "name": "stdout",
          "text": [
            "2.13.0\n"
          ]
        }
      ]
    },
    {
      "cell_type": "markdown",
      "source": [
        "4. Import the cifra10 data set"
      ],
      "metadata": {
        "id": "05LLOgZnCuBN"
      }
    },
    {
      "cell_type": "code",
      "source": [
        "data = keras.datasets.cifar10\n",
        "cifar10_data = data.load_data()"
      ],
      "metadata": {
        "id": "JInUTKvfCo91",
        "colab": {
          "base_uri": "https://localhost:8080/"
        },
        "outputId": "ae29f0ad-24f0-4fa7-f4d7-9b1747529923"
      },
      "execution_count": 4,
      "outputs": [
        {
          "output_type": "stream",
          "name": "stdout",
          "text": [
            "Downloading data from https://www.cs.toronto.edu/~kriz/cifar-10-python.tar.gz\n",
            "170498071/170498071 [==============================] - 2s 0us/step\n"
          ]
        }
      ]
    },
    {
      "cell_type": "markdown",
      "source": [
        "5. Check datatype"
      ],
      "metadata": {
        "id": "bQU84Tr6DNCj"
      }
    },
    {
      "cell_type": "code",
      "source": [
        "type(cifar10_data)"
      ],
      "metadata": {
        "colab": {
          "base_uri": "https://localhost:8080/"
        },
        "id": "ZIDbzvWoDF_A",
        "outputId": "3bb53fff-be4a-4fcd-f6ee-76084d8144b3"
      },
      "execution_count": 5,
      "outputs": [
        {
          "output_type": "execute_result",
          "data": {
            "text/plain": [
              "tuple"
            ]
          },
          "metadata": {},
          "execution_count": 5
        }
      ]
    },
    {
      "cell_type": "code",
      "source": [
        "len(cifar10_data)"
      ],
      "metadata": {
        "colab": {
          "base_uri": "https://localhost:8080/"
        },
        "id": "OiXG1g-sDZUG",
        "outputId": "e6ec4c29-ab80-4620-f722-c7f653a53452"
      },
      "execution_count": 6,
      "outputs": [
        {
          "output_type": "execute_result",
          "data": {
            "text/plain": [
              "2"
            ]
          },
          "metadata": {},
          "execution_count": 6
        }
      ]
    },
    {
      "cell_type": "markdown",
      "source": [
        "6. Load train and test images and labels"
      ],
      "metadata": {
        "id": "MJ88QqtxEacH"
      }
    },
    {
      "cell_type": "code",
      "source": [
        "(train_images , train_labels),(test_images , test_labels) = cifar10_data"
      ],
      "metadata": {
        "id": "aWzJYE1_EeYT"
      },
      "execution_count": 7,
      "outputs": []
    },
    {
      "cell_type": "markdown",
      "source": [
        " 7. Check that the images are 32 × 32 NumPy arrays, with pixel values ranging from 0 to 255"
      ],
      "metadata": {
        "id": "_2E3o9OIE5Tl"
      }
    },
    {
      "cell_type": "code",
      "source": [
        "sample_img = train_images[0]\n",
        "pixel_min = np.min(sample_img)\n",
        "pixel_max = np.max(sample_img)\n",
        "\n",
        "print(\"Image Shape: \", sample_img.shape)\n",
        "print(sample_img)\n",
        "print(\"Pixel Value Range - Min:\", pixel_min, \"Max:\", pixel_max)"
      ],
      "metadata": {
        "colab": {
          "base_uri": "https://localhost:8080/"
        },
        "id": "vQZHv14XFFCB",
        "outputId": "86c3f35b-a7dd-46a5-d82b-94c7486904a8"
      },
      "execution_count": 8,
      "outputs": [
        {
          "output_type": "stream",
          "name": "stdout",
          "text": [
            "Image Shape:  (32, 32, 3)\n",
            "[[[ 59  62  63]\n",
            "  [ 43  46  45]\n",
            "  [ 50  48  43]\n",
            "  ...\n",
            "  [158 132 108]\n",
            "  [152 125 102]\n",
            "  [148 124 103]]\n",
            "\n",
            " [[ 16  20  20]\n",
            "  [  0   0   0]\n",
            "  [ 18   8   0]\n",
            "  ...\n",
            "  [123  88  55]\n",
            "  [119  83  50]\n",
            "  [122  87  57]]\n",
            "\n",
            " [[ 25  24  21]\n",
            "  [ 16   7   0]\n",
            "  [ 49  27   8]\n",
            "  ...\n",
            "  [118  84  50]\n",
            "  [120  84  50]\n",
            "  [109  73  42]]\n",
            "\n",
            " ...\n",
            "\n",
            " [[208 170  96]\n",
            "  [201 153  34]\n",
            "  [198 161  26]\n",
            "  ...\n",
            "  [160 133  70]\n",
            "  [ 56  31   7]\n",
            "  [ 53  34  20]]\n",
            "\n",
            " [[180 139  96]\n",
            "  [173 123  42]\n",
            "  [186 144  30]\n",
            "  ...\n",
            "  [184 148  94]\n",
            "  [ 97  62  34]\n",
            "  [ 83  53  34]]\n",
            "\n",
            " [[177 144 116]\n",
            "  [168 129  94]\n",
            "  [179 142  87]\n",
            "  ...\n",
            "  [216 184 140]\n",
            "  [151 118  84]\n",
            "  [123  92  72]]]\n",
            "Pixel Value Range - Min: 0 Max: 255\n"
          ]
        }
      ]
    },
    {
      "cell_type": "markdown",
      "source": [
        "Check that the labels are an array of integers, ranging from 0 to 9"
      ],
      "metadata": {
        "id": "aacZ7HidGRqp"
      }
    },
    {
      "cell_type": "code",
      "source": [
        "min_label = np.min(train_labels)\n",
        "max_label = np.max(train_labels)\n",
        "\n",
        "print(\"Labels type: \", train_labels.dtype)\n",
        "# another way to check labels type\n",
        "'''is_integer = np.issubdtype(train_labels.dtype, np.integer)\n",
        "print(\"Is Integer Labels:\", is_integer)'''\n",
        "print(\"Labels Range - Min:\", min_label, \"Max:\", max_label)"
      ],
      "metadata": {
        "colab": {
          "base_uri": "https://localhost:8080/"
        },
        "id": "YbaPCyDfFr7s",
        "outputId": "a9a133d2-a9f6-4f91-865a-7170e708eb8f"
      },
      "execution_count": 9,
      "outputs": [
        {
          "output_type": "stream",
          "name": "stdout",
          "text": [
            "Labels type:  uint8\n",
            "Labels Range - Min: 0 Max: 9\n"
          ]
        }
      ]
    },
    {
      "cell_type": "markdown",
      "source": [
        "Store the class names in the dataset"
      ],
      "metadata": {
        "id": "L240C00HIbH0"
      }
    },
    {
      "cell_type": "code",
      "source": [
        "class_names = [ 'airplane' , 'automobile' , 'bird' , 'cat' , 'deer' , 'dog' , 'frog' , 'horse' , 'ship' , 'truck']"
      ],
      "metadata": {
        "id": "wJjgxl4yHyX8"
      },
      "execution_count": 10,
      "outputs": []
    },
    {
      "cell_type": "markdown",
      "source": [
        "8. Explore the datasets :  number of train and test points, their array size etc."
      ],
      "metadata": {
        "id": "XXYpKPmUIxIt"
      }
    },
    {
      "cell_type": "code",
      "source": [
        "print(\"Number of training samples : \", len(train_images))\n",
        "print(\"Number of test samples : \", len(test_images))\n",
        "print(\"Number of classes : \", len(set(train_labels.flatten())))"
      ],
      "metadata": {
        "colab": {
          "base_uri": "https://localhost:8080/"
        },
        "id": "bt_9DfxQI63S",
        "outputId": "8971f471-21d7-4fe9-bfb5-1b5a7fec9328"
      },
      "execution_count": 11,
      "outputs": [
        {
          "output_type": "stream",
          "name": "stdout",
          "text": [
            "Number of training samples :  50000\n",
            "Number of test samples :  10000\n",
            "Number of classes :  10\n"
          ]
        }
      ]
    },
    {
      "cell_type": "markdown",
      "source": [
        "9. Plot images"
      ],
      "metadata": {
        "id": "pmAzQ6bhKWWf"
      }
    },
    {
      "cell_type": "code",
      "source": [
        "index = 8\n",
        "plt.figure()\n",
        "plt.imshow(train_images[index])\n",
        "plt.colorbar()\n",
        "plt.grid(False)\n",
        "plt.show()\n",
        "\n",
        "train_labels[index]"
      ],
      "metadata": {
        "colab": {
          "base_uri": "https://localhost:8080/",
          "height": 450
        },
        "id": "4PnTwdlUJXoe",
        "outputId": "6dbc18fa-7ee9-4b3f-9041-ac8df39d5e4c"
      },
      "execution_count": 12,
      "outputs": [
        {
          "output_type": "display_data",
          "data": {
            "text/plain": [
              "<Figure size 640x480 with 2 Axes>"
            ],
            "image/png": "[encoded data removed]"
          },
          "metadata": {}
        },
        {
          "output_type": "execute_result",
          "data": {
            "text/plain": [
              "array([8], dtype=uint8)"
            ]
          },
          "metadata": {},
          "execution_count": 12
        }
      ]
    },
    {
      "cell_type": "markdown",
      "source": [
        "10. Verify that the data is in the correct format"
      ],
      "metadata": {
        "id": "8idzjE4QLl8T"
      }
    },
    {
      "cell_type": "code",
      "source": [
        "plt.figure(figsize = (10, 10))\n",
        "for i in range(25):\n",
        "  plt.subplot(5, 5, i + 1) # Create a 5x5 grid of subplots)\n",
        "  plt.xticks([])\n",
        "  plt.yticks([])\n",
        "  plt.imshow(train_images[i])\n",
        "  plt.xlabel(class_names[train_labels[i][0]]) # Display the class name below each image"
      ],
      "metadata": {
        "colab": {
          "base_uri": "https://localhost:8080/",
          "height": 826
        },
        "id": "ECJ-RCIpLrqo",
        "outputId": "0e1ce232-1c9a-4b34-d3a5-9e77b43a09da"
      },
      "execution_count": 13,
      "outputs": [
        {
          "output_type": "display_data",
          "data": {
            "text/plain": [
              "<Figure size 1000x1000 with 25 Axes>"
            ],
            "image/png": "[encoded data removed]"
          },
          "metadata": {}
        }
      ]
    },
    {
      "cell_type": "markdown",
      "source": [
        "11. Normalize the pixel values in the training and test sets\n"
      ],
      "metadata": {
        "id": "_4EkBZ1JNPIH"
      }
    },
    {
      "cell_type": "code",
      "source": [
        "train_images_normalized = train_images / 255.0\n",
        "test_images_normalized = test_images / 255.0"
      ],
      "metadata": {
        "id": "7xNZHNgtNUpl"
      },
      "execution_count": 14,
      "outputs": []
    },
    {
      "cell_type": "markdown",
      "source": [
        "12. First neural network definition with three layers and two activation functions"
      ],
      "metadata": {
        "id": "Zh2lYxBLNlC7"
      }
    },
    {
      "cell_type": "code",
      "source": [
        "model = keras.Sequential([\n",
        "    keras.layers.Flatten(input_shape=(32, 32, 3)),\n",
        "    keras.layers.Dense(128, activation='relu'), #128 neurons each connected to every neuron in the flatten layer. Rectified Linear Unit fct introduces non-linearity to the model\n",
        "    keras.layers.Dense(10, activation='softmax')]) # The output layer with 10 neurons. The softmax activation fct converts the model's raw output into class probabilities"
      ],
      "metadata": {
        "id": "W8grXVdyNqHo"
      },
      "execution_count": 15,
      "outputs": []
    },
    {
      "cell_type": "markdown",
      "source": [
        "13. Compile model"
      ],
      "metadata": {
        "id": "bspq1PxSQ3MU"
      }
    },
    {
      "cell_type": "code",
      "source": [
        "model.compile(optimizer='adam',\n",
        "                loss='sparse_categorical_crossentropy',\n",
        "                metrics=['accuracy'])"
      ],
      "metadata": {
        "id": "h610eESNx4tK"
      },
      "execution_count": 16,
      "outputs": []
    },
    {
      "cell_type": "markdown",
      "source": [
        "14. Train the model"
      ],
      "metadata": {
        "id": "3F6DnOIaRAlp"
      }
    },
    {
      "cell_type": "code",
      "source": [
        "model.fit(train_images_normalized, train_labels, epochs=10)  # epochs is the nb of times the model learns from the complete training dataset"
      ],
      "metadata": {
        "colab": {
          "base_uri": "https://localhost:8080/"
        },
        "id": "tCVc8O56Thv5",
        "outputId": "1fef3961-3504-4d73-8e26-7c76cc71dc9d"
      },
      "execution_count": 18,
      "outputs": [
        {
          "output_type": "stream",
          "name": "stdout",
          "text": [
            "Epoch 1/10\n",
            "1563/1563 [==============================] - 20s 13ms/step - loss: 2.3028 - accuracy: 0.0982\n",
            "Epoch 2/10\n",
            "1563/1563 [==============================] - 18s 11ms/step - loss: 2.3027 - accuracy: 0.0981\n",
            "Epoch 3/10\n",
            "1563/1563 [==============================] - 14s 9ms/step - loss: 2.3028 - accuracy: 0.0983\n",
            "Epoch 4/10\n",
            "1563/1563 [==============================] - 16s 10ms/step - loss: 2.3028 - accuracy: 0.0982\n",
            "Epoch 5/10\n",
            "1563/1563 [==============================] - 14s 9ms/step - loss: 2.2876 - accuracy: 0.1094\n",
            "Epoch 6/10\n",
            "1563/1563 [==============================] - 12s 7ms/step - loss: 2.1369 - accuracy: 0.1782\n",
            "Epoch 7/10\n",
            "1563/1563 [==============================] - 17s 11ms/step - loss: 2.0921 - accuracy: 0.1802\n",
            "Epoch 8/10\n",
            "1563/1563 [==============================] - 13s 9ms/step - loss: 2.0772 - accuracy: 0.1833\n",
            "Epoch 9/10\n",
            "1563/1563 [==============================] - 11s 7ms/step - loss: 2.0708 - accuracy: 0.1812\n",
            "Epoch 10/10\n",
            "1563/1563 [==============================] - 11s 7ms/step - loss: 2.0674 - accuracy: 0.1815\n"
          ]
        },
        {
          "output_type": "execute_result",
          "data": {
            "text/plain": [
              "<keras.src.callbacks.History at 0x7c94dc470370>"
            ]
          },
          "metadata": {},
          "execution_count": 18
        }
      ]
    },
    {
      "cell_type": "markdown",
      "source": [
        "15. Evaluate the model on the test set"
      ],
      "metadata": {
        "id": "j1kwmq49V8oM"
      }
    },
    {
      "cell_type": "code",
      "source": [
        "test_loss , test_accuracy = model.evaluate(test_images_normalized , test_labels , verbose = 2)"
      ],
      "metadata": {
        "colab": {
          "base_uri": "https://localhost:8080/"
        },
        "id": "iZxMwqkAWEBN",
        "outputId": "aad0f429-40ed-4c5c-eaad-b2c48bea2771"
      },
      "execution_count": 19,
      "outputs": [
        {
          "output_type": "stream",
          "name": "stdout",
          "text": [
            "313/313 - 1s - loss: 2.0623 - accuracy: 0.1866 - 867ms/epoch - 3ms/step\n"
          ]
        }
      ]
    },
    {
      "cell_type": "markdown",
      "source": [
        "16. Predict labels for each image"
      ],
      "metadata": {
        "id": "oiR-jUJdWcDe"
      }
    },
    {
      "cell_type": "code",
      "source": [
        "predictions = model.predict(test_images_normalized)"
      ],
      "metadata": {
        "colab": {
          "base_uri": "https://localhost:8080/"
        },
        "id": "APGFM5IdyyXl",
        "outputId": "9af3ae9f-c6c4-4788-e798-76d3f41318b3"
      },
      "execution_count": 20,
      "outputs": [
        {
          "output_type": "stream",
          "name": "stdout",
          "text": [
            "313/313 [==============================] - 1s 2ms/step\n"
          ]
        }
      ]
    },
    {
      "cell_type": "markdown",
      "source": [
        "Get the predicted labels for the first three images\n"
      ],
      "metadata": {
        "id": "hpyOrlwY0VyN"
      }
    },
    {
      "cell_type": "code",
      "source": [
        "predicted_labels = np.argmax(predictions[:3], axis=1)\n",
        "\n",
        "# Get the true labels for the first three images\n",
        "true_labels = test_labels[:3].flatten()\n",
        "\n",
        "# Compare the predicted labels with the true labels\n",
        "correct_predictions = np.sum(predicted_labels == true_labels)\n",
        "\n",
        "print(f\"Predicted labels: {predicted_labels}\")\n",
        "print(f\"True labels: {true_labels}\")\n",
        "print(f\"Number of correct predictions: {correct_predictions}\")"
      ],
      "metadata": {
        "colab": {
          "base_uri": "https://localhost:8080/"
        },
        "id": "l9LmKk4Az0Hq",
        "outputId": "707cb4c2-db5a-421e-9ca6-7de21226565b"
      },
      "execution_count": 21,
      "outputs": [
        {
          "output_type": "stream",
          "name": "stdout",
          "text": [
            "Predicted labels: [3 8 8]\n",
            "True labels: [3 8 8]\n",
            "Number of correct predictions: 3\n"
          ]
        }
      ]
    },
    {
      "cell_type": "markdown",
      "source": [
        "17. Function to check the predicted labels\n"
      ],
      "metadata": {
        "id": "7owqaQ3TzpZQ"
      }
    },
    {
      "cell_type": "code",
      "source": [
        "def display_images_with_labels(images, true_labels, predicted_labels, class_names, probabilities):\n",
        "    plt.figure(figsize=(15, 5))\n",
        "\n",
        "    for i in range(len(images)):\n",
        "        plt.subplot(1, len(images), i + 1)\n",
        "\n",
        "        # Display the image\n",
        "        plt.imshow(images[i])\n",
        "        plt.xticks([])\n",
        "        plt.yticks([])\n",
        "\n",
        "        # Set label color based on correctness\n",
        "        if true_labels[i] == predicted_labels[i]:\n",
        "            label_color = 'blue'\n",
        "        else:\n",
        "            label_color = 'red'\n",
        "\n",
        "        # Display the label with probability and percentage in blue or red\n",
        "        predicted_class = class_names[predicted_labels[i]]\n",
        "        true_class = class_names[true_labels[i]]\n",
        "        confidence_percentage = round(probabilities[i][predicted_labels[i]] * 100)\n",
        "        label_text = f\"Predicted: {predicted_class} ({confidence_percentage}%) \\nTrue: {true_class}\"\n",
        "        plt.xlabel(label_text, color=label_color)\n",
        "\n",
        "    plt.show()"
      ],
      "metadata": {
        "id": "Jei6rPegzy51"
      },
      "execution_count": 33,
      "outputs": []
    },
    {
      "cell_type": "markdown",
      "source": [
        "Test function"
      ],
      "metadata": {
        "id": "dgQbJlMr-PpW"
      }
    },
    {
      "cell_type": "code",
      "source": [
        "display_images_with_labels(test_images_normalized[:2], test_labels[:2].flatten(), predicted_labels[:2], class_names, predictions[:2])"
      ],
      "metadata": {
        "colab": {
          "base_uri": "https://localhost:8080/",
          "height": 457
        },
        "id": "ICSG3FAC00Z8",
        "outputId": "83b57d05-6a0a-436d-9065-ad8546e35958"
      },
      "execution_count": 41,
      "outputs": [
        {
          "output_type": "display_data",
          "data": {
            "text/plain": [
              "<Figure size 1500x500 with 2 Axes>"
            ],
            "image/png": "[encoded data removed]"
          },
          "metadata": {}
        }
      ]
    },
    {
      "cell_type": "markdown",
      "source": [
        "18. Predict a single image from the test set"
      ],
      "metadata": {
        "id": "slsrsxlZ4d01"
      }
    },
    {
      "cell_type": "code",
      "source": [
        "single_image = test_images_normalized[5]\n",
        "\n",
        "# Add a batch dimension using np.expand_dims to not encounter shape mismatch error\n",
        "single_image_with_batch = np.expand_dims(single_image, axis=0)\n",
        "\n",
        "# Make a prediction on the single image\n",
        "prediction = model.predict(single_image_with_batch)\n",
        "\n",
        "# We can use prediction to access the probabilities for each class\n",
        "print(prediction)"
      ],
      "metadata": {
        "colab": {
          "base_uri": "https://localhost:8080/"
        },
        "id": "_JIyCVlx4sp5",
        "outputId": "0482c4ed-3009-44fc-cc55-010d35dab0eb"
      },
      "execution_count": 45,
      "outputs": [
        {
          "output_type": "stream",
          "name": "stdout",
          "text": [
            "1/1 [==============================] - 0s 24ms/step\n",
            "[[0.02391165 0.01253523 0.15183918 0.13784349 0.17641306 0.15637724\n",
            "  0.18870142 0.13970235 0.00449574 0.00818064]]\n"
          ]
        }
      ]
    },
    {
      "cell_type": "markdown",
      "source": [
        "19. Change the model structure"
      ],
      "metadata": {
        "id": "HxEM-yePyTdm"
      }
    },
    {
      "cell_type": "markdown",
      "source": [
        "Neural Network"
      ],
      "metadata": {
        "id": "R64S9wR59740"
      }
    },
    {
      "cell_type": "code",
      "source": [
        "from keras.models import Sequential\n",
        "from keras.layers import Conv2D, MaxPooling2D, Flatten, Dense, Dropout\n",
        "\n",
        "model = Sequential([\n",
        "    Conv2D(32, (3, 3), activation='relu', input_shape=(32, 32, 3)),\n",
        "    MaxPooling2D((2, 2)),\n",
        "    Conv2D(64, (3, 3), activation='relu'),\n",
        "    MaxPooling2D((2, 2)),\n",
        "    Flatten(),\n",
        "    Dense(128, activation='relu'),\n",
        "    Dropout(0.5),  # Dropout with a 50% probability to reduce overfitting\n",
        "    Dense(10, activation='softmax')\n",
        "])"
      ],
      "metadata": {
        "id": "UmcqNX_67fBN"
      },
      "execution_count": 15,
      "outputs": []
    },
    {
      "cell_type": "markdown",
      "source": [
        "Compile model"
      ],
      "metadata": {
        "id": "cwmQSwrk-CpM"
      }
    },
    {
      "cell_type": "code",
      "source": [
        "model.compile(optimizer='adam',\n",
        "              loss='sparse_categorical_crossentropy',\n",
        "              metrics=['accuracy'])"
      ],
      "metadata": {
        "id": "-XbdAiwY8gA_"
      },
      "execution_count": 16,
      "outputs": []
    },
    {
      "cell_type": "markdown",
      "source": [
        "Train model"
      ],
      "metadata": {
        "id": "-ks6-pUs-FN4"
      }
    },
    {
      "cell_type": "code",
      "source": [
        "model.fit(train_images_normalized, train_labels, epochs=10)"
      ],
      "metadata": {
        "colab": {
          "base_uri": "https://localhost:8080/"
        },
        "id": "8DBiDC1A8hZK",
        "outputId": "04e322f3-3773-4d54-d901-92833840210c"
      },
      "execution_count": 17,
      "outputs": [
        {
          "output_type": "stream",
          "name": "stdout",
          "text": [
            "Epoch 1/10\n",
            "1563/1563 [==============================] - 73s 45ms/step - loss: 1.6425 - accuracy: 0.4017\n",
            "Epoch 2/10\n",
            "1563/1563 [==============================] - 65s 42ms/step - loss: 1.3092 - accuracy: 0.5319\n",
            "Epoch 3/10\n",
            "1563/1563 [==============================] - 64s 41ms/step - loss: 1.1773 - accuracy: 0.5827\n",
            "Epoch 4/10\n",
            "1563/1563 [==============================] - 66s 42ms/step - loss: 1.0977 - accuracy: 0.6119\n",
            "Epoch 5/10\n",
            "1563/1563 [==============================] - 82s 53ms/step - loss: 1.0362 - accuracy: 0.6364\n",
            "Epoch 6/10\n",
            "1563/1563 [==============================] - 85s 55ms/step - loss: 0.9845 - accuracy: 0.6562\n",
            "Epoch 7/10\n",
            "1563/1563 [==============================] - 71s 46ms/step - loss: 0.9452 - accuracy: 0.6686\n",
            "Epoch 8/10\n",
            "1563/1563 [==============================] - 75s 48ms/step - loss: 0.9018 - accuracy: 0.6833\n",
            "Epoch 9/10\n",
            "1563/1563 [==============================] - 65s 42ms/step - loss: 0.8672 - accuracy: 0.6938\n",
            "Epoch 10/10\n",
            "1563/1563 [==============================] - 70s 45ms/step - loss: 0.8374 - accuracy: 0.7038\n"
          ]
        },
        {
          "output_type": "execute_result",
          "data": {
            "text/plain": [
              "<keras.src.callbacks.History at 0x7e8c05e06920>"
            ]
          },
          "metadata": {},
          "execution_count": 17
        }
      ]
    },
    {
      "cell_type": "markdown",
      "source": [
        "Evaluate the model on the test set"
      ],
      "metadata": {
        "id": "-dYNKk-h-UKC"
      }
    },
    {
      "cell_type": "code",
      "source": [
        "test_loss , test_accuracy = model.evaluate(test_images_normalized , test_labels , verbose = 2)"
      ],
      "metadata": {
        "colab": {
          "base_uri": "https://localhost:8080/"
        },
        "id": "okYtid5C84re",
        "outputId": "572a47a4-a17c-4d0d-cd35-b91dd63e11a5"
      },
      "execution_count": 18,
      "outputs": [
        {
          "output_type": "stream",
          "name": "stdout",
          "text": [
            "313/313 - 6s - loss: 0.8717 - accuracy: 0.6948 - 6s/epoch - 18ms/step\n"
          ]
        }
      ]
    },
    {
      "cell_type": "markdown",
      "source": [
        "Let's predict laels for each image"
      ],
      "metadata": {
        "id": "tBBOiDsty09j"
      }
    },
    {
      "cell_type": "code",
      "source": [
        "predictions = model.predict(test_images_normalized)"
      ],
      "metadata": {
        "colab": {
          "base_uri": "https://localhost:8080/"
        },
        "id": "NBTK8YYU_ab-",
        "outputId": "6f218650-b1c1-41dc-904e-e75d094ae768"
      },
      "execution_count": 19,
      "outputs": [
        {
          "output_type": "stream",
          "name": "stdout",
          "text": [
            "313/313 [==============================] - 5s 15ms/step\n"
          ]
        }
      ]
    },
    {
      "cell_type": "markdown",
      "source": [
        "Get the predicted labels for the first three images\n"
      ],
      "metadata": {
        "id": "Q2XoShsb_p6H"
      }
    },
    {
      "cell_type": "code",
      "source": [
        "predicted_labels = np.argmax(predictions[:3], axis=1)\n",
        "\n",
        "# Get the true labels for the first three images\n",
        "true_labels = test_labels[:3].flatten()\n",
        "\n",
        "# Compare the predicted labels with the true labels\n",
        "correct_predictions = np.sum(predicted_labels == true_labels)\n",
        "\n",
        "print(f\"Predicted labels: {predicted_labels}\")\n",
        "print(f\"True labels: {true_labels}\")\n",
        "print(f\"Number of correct predictions: {correct_predictions}\")"
      ],
      "metadata": {
        "colab": {
          "base_uri": "https://localhost:8080/"
        },
        "id": "U_VM4Q2H_8m0",
        "outputId": "c5c4237e-da2e-4d0a-a1d1-fd45d22e1c40"
      },
      "execution_count": 20,
      "outputs": [
        {
          "output_type": "stream",
          "name": "stdout",
          "text": [
            "Predicted labels: [3 8 8]\n",
            "True labels: [3 8 8]\n",
            "Number of correct predictions: 3\n"
          ]
        }
      ]
    },
    {
      "cell_type": "markdown",
      "source": [
        "Function to check the predicted labels"
      ],
      "metadata": {
        "id": "Cv5WR1-iAONG"
      }
    },
    {
      "cell_type": "code",
      "source": [
        "def display_images_with_labels(images, true_labels, predicted_labels, class_names, probabilities):\n",
        "    plt.figure(figsize=(15, 5))\n",
        "\n",
        "    for i in range(len(images)):\n",
        "        plt.subplot(1, len(images), i + 1)\n",
        "\n",
        "        # Display the image\n",
        "        plt.imshow(images[i])\n",
        "        plt.xticks([])\n",
        "        plt.yticks([])\n",
        "\n",
        "        # Set label color based on correctness\n",
        "        if true_labels[i] == predicted_labels[i]:\n",
        "            label_color = 'blue'\n",
        "        else:\n",
        "            label_color = 'red'\n",
        "\n",
        "        # Display the label with probability and percentage in blue or red\n",
        "        predicted_class = class_names[predicted_labels[i]]\n",
        "        true_class = class_names[true_labels[i]]\n",
        "        confidence_percentage = round(probabilities[i][predicted_labels[i]] * 100)\n",
        "        label_text = f\"Predicted: {predicted_class} ({confidence_percentage}%) \\nTrue: {true_class}\"\n",
        "        plt.xlabel(label_text, color=label_color)\n",
        "\n",
        "    plt.show()"
      ],
      "metadata": {
        "id": "yLnnSvTQAYWA"
      },
      "execution_count": 21,
      "outputs": []
    },
    {
      "cell_type": "markdown",
      "source": [
        "Test function"
      ],
      "metadata": {
        "id": "WIrQoDKMAd8x"
      }
    },
    {
      "cell_type": "code",
      "source": [
        "display_images_with_labels(test_images_normalized[:2], test_labels[:2].flatten(), predicted_labels[:2], class_names, predictions[:2])"
      ],
      "metadata": {
        "colab": {
          "base_uri": "https://localhost:8080/",
          "height": 457
        },
        "id": "slrFKhwjAizq",
        "outputId": "4f4aa489-9e14-48e7-fd7a-73e0d1adb39e"
      },
      "execution_count": 22,
      "outputs": [
        {
          "output_type": "display_data",
          "data": {
            "text/plain": [
              "<Figure size 1500x500 with 2 Axes>"
            ],
            "image/png": "[encoded data removed]"
          },
          "metadata": {}
        }
      ]
    },
    {
      "cell_type": "markdown",
      "source": [
        "Predict a single image from the test set"
      ],
      "metadata": {
        "id": "gngWSbYiArrW"
      }
    },
    {
      "cell_type": "code",
      "source": [
        "single_image = test_images_normalized[5]\n",
        "\n",
        "# Add a batch dimension using np.expand_dims to not encounter shape mismatch error\n",
        "single_image_with_batch = np.expand_dims(single_image, axis=0)\n",
        "\n",
        "# Make a prediction on the single image\n",
        "prediction = model.predict(single_image_with_batch)\n",
        "\n",
        "# We can use prediction to access the probabilities for each class\n",
        "print(prediction)"
      ],
      "metadata": {
        "colab": {
          "base_uri": "https://localhost:8080/"
        },
        "id": "DPLVIoN3AuFP",
        "outputId": "193db4ab-0cad-4047-e4a7-80eb8df62eb6"
      },
      "execution_count": 23,
      "outputs": [
        {
          "output_type": "stream",
          "name": "stdout",
          "text": [
            "1/1 [==============================] - 0s 23ms/step\n",
            "[[6.2103639e-04 3.9709671e-04 1.9064091e-02 4.1057181e-02 2.6924666e-02\n",
            "  2.8568400e-02 8.8099045e-01 1.9687964e-03 1.4365344e-04 2.6469855e-04]]\n"
          ]
        }
      ]
    },
    {
      "cell_type": "markdown",
      "source": [
        "**A more complex model architecture**"
      ],
      "metadata": {
        "id": "-3AlrbJt-mBA"
      }
    },
    {
      "cell_type": "markdown",
      "source": [
        "Let's add Data Augmentation to increase the diversity of the training dataset"
      ],
      "metadata": {
        "id": "5ARwUgsxYRv1"
      }
    },
    {
      "cell_type": "code",
      "source": [
        "from keras.preprocessing.image import ImageDataGenerator\n",
        "\n",
        "# Create an instance of the ImageDataGenerator for data augmentation\n",
        "datagen = ImageDataGenerator(\n",
        "    rotation_range=15,\n",
        "    width_shift_range=0.1,\n",
        "    height_shift_range=0.1,\n",
        "    horizontal_flip=True,\n",
        ")\n",
        "\n",
        "# Fit the generator to your data\n",
        "datagen.fit(train_images_normalized)"
      ],
      "metadata": {
        "id": "rTqhhoH-YHsU"
      },
      "execution_count": 15,
      "outputs": []
    },
    {
      "cell_type": "markdown",
      "source": [
        "Let's add convolutional neural networks (CNNs) to improve the model's architecture"
      ],
      "metadata": {
        "id": "3I9qqeZlW1wF"
      }
    },
    {
      "cell_type": "code",
      "source": [
        "from keras.models import Sequential\n",
        "from keras.layers import Conv2D, MaxPooling2D, Flatten, Dense, Dropout, BatchNormalization\n",
        "\n",
        "model = keras.Sequential([\n",
        "    Conv2D(32, (3, 3), activation='relu', input_shape=(32, 32, 3)),\n",
        "    BatchNormalization(),\n",
        "    MaxPooling2D((2, 2)),\n",
        "    Conv2D(64, (3, 3), activation='relu'),\n",
        "    BatchNormalization(),\n",
        "    MaxPooling2D((2, 2)),\n",
        "    Flatten(),\n",
        "    Dense(128, activation='relu'),\n",
        "    BatchNormalization(),\n",
        "    Dropout(0.6), # Dropout with a 60% probability to reduce overfitting\n",
        "    Dense(10, activation='softmax')\n",
        "])"
      ],
      "metadata": {
        "id": "fq-S4abpnkxK"
      },
      "execution_count": 16,
      "outputs": []
    },
    {
      "cell_type": "markdown",
      "source": [
        "Let's add Learning rate scheduling"
      ],
      "metadata": {
        "id": "cGsyIQranpPN"
      }
    },
    {
      "cell_type": "code",
      "source": [
        "from keras.optimizers import Adam\n",
        "\n",
        "lr_schedule = keras.optimizers.schedules.ExponentialDecay(\n",
        "    initial_learning_rate=1e-3,\n",
        "    decay_steps=10000,\n",
        "    decay_rate=0.9\n",
        ")\n",
        "optimizer = Adam(learning_rate=lr_schedule)"
      ],
      "metadata": {
        "id": "fqU2I6Yknoy1"
      },
      "execution_count": 17,
      "outputs": []
    },
    {
      "cell_type": "markdown",
      "source": [
        "Let's compile the model"
      ],
      "metadata": {
        "id": "-0CDEyfwyprH"
      }
    },
    {
      "cell_type": "code",
      "source": [
        "from keras.optimizers import Adam\n",
        "\n",
        "model.compile(optimizer=Adam(learning_rate=0.0001),\n",
        "                loss='sparse_categorical_crossentropy', # used for multiclass classification\n",
        "                metrics=['accuracy'])"
      ],
      "metadata": {
        "id": "pfQbG6P9Q5gO"
      },
      "execution_count": 17,
      "outputs": []
    },
    {
      "cell_type": "markdown",
      "source": [
        "Let's train the model with augmented data"
      ],
      "metadata": {
        "id": "JTHGGxg6ZdLl"
      }
    },
    {
      "cell_type": "code",
      "source": [
        "model.fit(\n",
        "    datagen.flow(train_images_normalized, train_labels, batch_size=32),  # Generate augmented batches\n",
        "    epochs=10,  # Number of epochs for training\n",
        "    validation_data=(test_images, test_labels),  # Validation dataset against which the model's performance is evaluated\n",
        "    callbacks=[keras.callbacks.EarlyStopping(patience=5)] # Monitor the validation loss. Without improvement after 5 consecutive epochs, training will stop early to prevent overfitting.\n",
        ")"
      ],
      "metadata": {
        "id": "FaJwHati-cJP"
      },
      "execution_count": null,
      "outputs": []
    }
  ]
}