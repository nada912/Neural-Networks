{
  "nbformat": 4,
  "nbformat_minor": 0,
  "metadata": {
    "colab": {
      "provenance": [],
      "authorship_tag": "ABX9TyNPOu2xw3PH3KsoGsbW/zmh",
      "include_colab_link": true
    },
    "kernelspec": {
      "name": "python3",
      "display_name": "Python 3"
    },
    "language_info": {
      "name": "python"
    }
  },
  "cells": [
    {
      "cell_type": "markdown",
      "metadata": {
        "id": "view-in-github",
        "colab_type": "text"
      },
      "source": [
        "<a href=\"https://colab.research.google.com/github/nada912/Neural-Networks/blob/main/Kaggle_LAB.ipynb\" target=\"_parent\"><img src=\"https://colab.research.google.com/assets/colab-badge.svg\" alt=\"Open In Colab\"/></a>"
      ]
    },
    {
      "cell_type": "code",
      "execution_count": null,
      "metadata": {
        "id": "K9H7BV4M3M5q"
      },
      "outputs": [],
      "source": [
        "import numpy as np\n",
        "from google.colab import files"
      ]
    },
    {
      "cell_type": "markdown",
      "source": [
        "**Upload files into Google Colab Env**"
      ],
      "metadata": {
        "id": "7paHY3xy3biI"
      }
    },
    {
      "cell_type": "code",
      "source": [
        "uploaded = files.upload()\n",
        "\n",
        "for fn in uploaded.keys():\n",
        "  print('User uploaded file \"{name}\" with length {length} bytes'.format(\n",
        "      name=fn, length=len(uploaded[fn])))"
      ],
      "metadata": {
        "id": "nCWZv-AG3deS"
      },
      "execution_count": null,
      "outputs": []
    },
    {
      "cell_type": "markdown",
      "source": [
        "**Load the data from the uploaded files**\n",
        "\n"
      ],
      "metadata": {
        "id": "vV4UEkzv3hTv"
      }
    },
    {
      "cell_type": "code",
      "source": [
        "import pandas as pd\n",
        "\n",
        "file_name = \"train.csv\"\n",
        "train = pd.read_csv(file_name)\n",
        "\n",
        "file_name1 = \"test.csv\"\n",
        "test = pd.read_csv(file_name1)"
      ],
      "metadata": {
        "id": "HZknFw0-3pj0"
      },
      "execution_count": null,
      "outputs": []
    },
    {
      "cell_type": "markdown",
      "source": [
        "**Explore data**"
      ],
      "metadata": {
        "id": "7Amb_PEq3vDv"
      }
    },
    {
      "cell_type": "code",
      "source": [
        "train.head()"
      ],
      "metadata": {
        "id": "DbVGc2ty3xCl"
      },
      "execution_count": null,
      "outputs": []
    },
    {
      "cell_type": "code",
      "source": [
        "test.head()"
      ],
      "metadata": {
        "id": "mZxBgBZ23zHE"
      },
      "execution_count": null,
      "outputs": []
    },
    {
      "cell_type": "markdown",
      "source": [
        "**Explore a pattern**"
      ],
      "metadata": {
        "id": "7l4yDzR434ma"
      }
    },
    {
      "cell_type": "code",
      "source": [],
      "metadata": {
        "id": "3ByWmfXK36ln"
      },
      "execution_count": null,
      "outputs": []
    },
    {
      "cell_type": "markdown",
      "source": [
        "**Choose ML model**"
      ],
      "metadata": {
        "id": "dhgHPWCH4KGS"
      }
    },
    {
      "cell_type": "code",
      "source": [],
      "metadata": {
        "id": "fo0PWRqu4Rqi"
      },
      "execution_count": null,
      "outputs": []
    },
    {
      "cell_type": "markdown",
      "source": [
        "Create the model"
      ],
      "metadata": {
        "id": "7Nv8UMi94W2b"
      }
    },
    {
      "cell_type": "code",
      "source": [],
      "metadata": {
        "id": "YIGgeiu34cuh"
      },
      "execution_count": null,
      "outputs": []
    },
    {
      "cell_type": "markdown",
      "source": [
        "Train the model"
      ],
      "metadata": {
        "id": "_UTA_6Ty4drX"
      }
    },
    {
      "cell_type": "code",
      "source": [],
      "metadata": {
        "id": "KR_67WsJ4gkF"
      },
      "execution_count": null,
      "outputs": []
    },
    {
      "cell_type": "markdown",
      "source": [
        "Make predictions on the test data"
      ],
      "metadata": {
        "id": "fk4h3LZo4lVD"
      }
    },
    {
      "cell_type": "code",
      "source": [],
      "metadata": {
        "id": "WzeXSPbR4mvu"
      },
      "execution_count": null,
      "outputs": []
    },
    {
      "cell_type": "markdown",
      "source": [
        "**Check the accuracy of the model**"
      ],
      "metadata": {
        "id": "pMzW5EsF4E9k"
      }
    },
    {
      "cell_type": "code",
      "source": [],
      "metadata": {
        "id": "FKYzM6yj4HHt"
      },
      "execution_count": null,
      "outputs": []
    },
    {
      "cell_type": "markdown",
      "source": [
        "**Create submission file**"
      ],
      "metadata": {
        "id": "CHSr3aXk43s3"
      }
    },
    {
      "cell_type": "markdown",
      "source": [
        "Create a Dataframe with the desired columns"
      ],
      "metadata": {
        "id": "t6W1BrZZ5Fn4"
      }
    },
    {
      "cell_type": "code",
      "source": [],
      "metadata": {
        "id": "JFBbsBrk4-OX"
      },
      "execution_count": null,
      "outputs": []
    },
    {
      "cell_type": "markdown",
      "source": [
        "Save Dataframe as csv file"
      ],
      "metadata": {
        "id": "F3k67oMC5Lsc"
      }
    },
    {
      "cell_type": "code",
      "source": [
        "output.to_csv('submission.csv', index=False)\n",
        "print(\"Your file was successfully saved!\")"
      ],
      "metadata": {
        "id": "4587IVl_5Mdm"
      },
      "execution_count": null,
      "outputs": []
    },
    {
      "cell_type": "markdown",
      "source": [
        "Download file to my local machine"
      ],
      "metadata": {
        "id": "SLvCJamq5QRp"
      }
    },
    {
      "cell_type": "code",
      "source": [
        "files.download('submission.csv')"
      ],
      "metadata": {
        "id": "in1CR6U55Rt5"
      },
      "execution_count": null,
      "outputs": []
    }
  ]
}